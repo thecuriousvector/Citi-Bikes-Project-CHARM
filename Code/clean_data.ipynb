{
 "cells": [
  {
   "cell_type": "code",
   "execution_count": null,
   "metadata": {
    "collapsed": true
   },
   "outputs": [],
   "source": [
    "import os, sys\n",
    "import pandas as pd\n",
    "import numpy as np\n",
    "from PIL import Image\n",
    "from matplotlib import pyplot as plt\n",
    "import datetime\n",
    "from datetime import date\n",
    "%matplotlib inline"
   ]
  },
  {
   "cell_type": "code",
   "execution_count": null,
   "metadata": {
    "collapsed": true
   },
   "outputs": [],
   "source": [
    "data_dir = '../Data/'"
   ]
  },
  {
   "cell_type": "code",
   "execution_count": null,
   "metadata": {
    "collapsed": false
   },
   "outputs": [],
   "source": [
    "data_train = pd.read_table(data_dir + 'citibike_train.csv', sep='\\t', error_bad_lines=False)\n",
    "data_test = pd.read_csv(data_dir + 'citibike_test.csv', sep='\\t', error_bad_lines=False)"
   ]
  },
  {
   "cell_type": "code",
   "execution_count": null,
   "metadata": {
    "collapsed": false
   },
   "outputs": [],
   "source": [
    "data_train.drop(data_test.columns[2:20],axis = 1, inplace= True)\n",
    "data_test.drop(data_test.columns[2:20],axis = 1, inplace= True)"
   ]
  },
  {
   "cell_type": "code",
   "execution_count": null,
   "metadata": {
    "collapsed": false
   },
   "outputs": [],
   "source": [
    "def clean_citibike(data):\n",
    "    data['datetime'] = pd.to_datetime(data['date'], format='%y-%m-%d')\n",
    "    data.drop('date', axis = 1, inplace = True)\n",
    "    #binary feature of each day\n",
    "    data['date'] = data['datetime'].dt.date\n",
    "    data['day_of_week'] = data.datetime.dt.weekday_name\n",
    "    data['weekday'] = [0 if x in ['Saturday','Sunday'] else 1 for x in data['day_of_week']]\n",
    "\n",
    "    for day in ['Monday', 'Tuesday','Wednesday', 'Thursday','Friday', 'Saturday','Sunday']:\n",
    "        data[day] = data.day_of_week == day\n",
    "\n",
    "    #holiday    \n",
    "    holiday = ['2016-01-01','2016-01-18', '2016-02-15', '2016-05-30',\n",
    "               '2016-07-04', '2016-09-05', '2016-10-10', '2016-11-11', '2016-11-24', '2016-12-25']\n",
    "\n",
    "    holiday = pd.to_datetime(holiday, format='%Y-%m-%d')\n",
    "    data['holiday'] = [1 if x in holiday else 0 for x in data.datetime]\n",
    "\n",
    "    #cyclical characteristics of time\n",
    "    data['hour_24'] = data.hour + data.pm * 12 \n",
    "    data['time_x'] = np.cos((data.hour_24 + data.minute/60) * 2*np.pi /24)\n",
    "    data['time_y'] = np.sin((data.hour_24 + data.minute/60) * 2*np.pi /24)\n",
    "    data['dayofyear'] = data.datetime.dt.dayofyear\n",
    "    data['day_x'] = np.cos((data.dayofyear) * 2*np.pi /365)\n",
    "    data['day_y'] = np.sin((data.dayofyear) * 2*np.pi /365)\n",
    "\n",
    "    data.drop('datetime', axis = 1, inplace = True)\n",
    "\n",
    "    #Target \n",
    "    data['shortage'] = [1 if x<=5 else 0 for x in data['avail_bikes']]\n",
    "    return data\n",
    "\n",
    "\n"
   ]
  },
  {
   "cell_type": "code",
   "execution_count": null,
   "metadata": {
    "collapsed": true
   },
   "outputs": [],
   "source": [
    "d_train = clean_citibike(data_train)\n",
    "d_test = clean_citibike(data_test)"
   ]
  },
  {
   "cell_type": "code",
   "execution_count": null,
   "metadata": {
    "collapsed": false
   },
   "outputs": [],
   "source": [
    "# base rate\n",
    "train_base = d_train.shortage.sum()/len(d_train)\n",
    "test_base = d_test.shortage.sum()/len(d_test)\n",
    "print(train_base , test_base)"
   ]
  },
  {
   "cell_type": "code",
   "execution_count": null,
   "metadata": {
    "collapsed": false
   },
   "outputs": [],
   "source": [
    "data_train.columns"
   ]
  },
  {
   "cell_type": "code",
   "execution_count": null,
   "metadata": {
    "collapsed": true
   },
   "outputs": [],
   "source": [
    "#X: features\n",
    "features = [#'station_id', \n",
    "            #'tot_docks',\n",
    "            'time_x','time_y','_lat','_long', 'Monday', 'Tuesday','Wednesday',\n",
    " 'Thursday','Friday','Saturday','Sunday', 'weekday','day_x','day_y', 'holiday']\n",
    "X_train = d_train.loc[:,features].as_matrix()\n",
    "X_test = d_test.loc[:,features].as_matrix()\n",
    "\n",
    "#Y: target\n",
    "Y_train = (d_train['shortage']).as_matrix()\n",
    "Y_test = (d_test['shortage']).as_matrix()\n"
   ]
  },
  {
   "cell_type": "code",
   "execution_count": null,
   "metadata": {
    "collapsed": false,
    "scrolled": true
   },
   "outputs": [],
   "source": [
    "#logistic Regression\n",
    "from sklearn.linear_model import LogisticRegression as lr\n",
    "model = lr()\n",
    "model.fit(X_train,Y_train)\n"
   ]
  },
  {
   "cell_type": "code",
   "execution_count": null,
   "metadata": {
    "collapsed": false
   },
   "outputs": [],
   "source": [
    "((model.predict(X_test) > 0) == Y_test).sum()/X_test.shape[0]"
   ]
  },
  {
   "cell_type": "markdown",
   "metadata": {},
   "source": [
    "# weather"
   ]
  },
  {
   "cell_type": "code",
   "execution_count": null,
   "metadata": {
    "collapsed": true
   },
   "outputs": [],
   "source": [
    "weather_dir = '../Data/'\n",
    "weather_filedir = data_dir + 'weather.csv'\n",
    "\n",
    "weather_data = pd.read_csv(weather_filedir)\n",
    "\n",
    "\n",
    "weather_features = ['pickup_datetime', \n",
    "                    'tempi', #temperature in farenheit\n",
    "                    'presipi', #presipitation\n",
    "                    'wspdi', #wind speed in mph\n",
    "                   'rain', # rain, boolean\n",
    "                   'snow',# snow, boolean\n",
    "                   'thunder', # thunder, boolean\n",
    "                   'visi' ]\n",
    "weather = weather_data.loc[:,weather_features] #vibilitity in miles\n",
    "\n"
   ]
  },
  {
   "cell_type": "code",
   "execution_count": null,
   "metadata": {
    "collapsed": false
   },
   "outputs": [],
   "source": [
    "weather.fillna(0, inplace=True)\n",
    "weather['datetime'] = pd.to_datetime(weather['pickup_datetime'], format='%Y-%m-%d %H:%M::%S', infer_datetime_format=True)\n",
    "weather['date'] = weather['datetime'].dt.date\n",
    "weather['hour_24'] = weather['datetime'].dt.hour+1\n",
    "weather['minute'] = weather['datetime'].dt.minute\n",
    "weather.drop(['pickup_datetime', 'datetime'],axis = 1, inplace = True)"
   ]
  },
  {
   "cell_type": "code",
   "execution_count": null,
   "metadata": {
    "collapsed": false
   },
   "outputs": [],
   "source": [
    "g = weather[['tempi', 'presipi', 'wspdi', 'rain', 'snow', 'thunder', 'visi']].groupby([weather['date'], weather['hour_24']])\n",
    "weather_by_hour = g.mean()\n",
    "\n",
    "for i in ['rain', 'snow', 'thunder']:\n",
    "    weather_by_hour[i] = [1 if w>0 else 0 for w in weather_by_hour[i]]\n",
    "    \n",
    "weather_by_hour.reset_index(inplace = True)\n",
    "\n",
    "weather_by_hour.head()"
   ]
  },
  {
   "cell_type": "code",
   "execution_count": null,
   "metadata": {
    "collapsed": false
   },
   "outputs": [],
   "source": [
    "#joining weather data to original dataset\n",
    "\n",
    "merged = pd.merge(data_train,weather_by_hour, on=['date','hour_24'], how = 'left')"
   ]
  },
  {
   "cell_type": "code",
   "execution_count": null,
   "metadata": {
    "collapsed": false
   },
   "outputs": [],
   "source": [
    "merged"
   ]
  },
  {
   "cell_type": "code",
   "execution_count": null,
   "metadata": {
    "collapsed": true
   },
   "outputs": [],
   "source": [
    "#X: features\n",
    "feature = features + weather_features\n",
    "X_train = merged.loc[:,features].as_matrix()\n",
    "X_test = merged.loc[:,features].as_matrix()\n",
    "#Y: target\n",
    "Y_train = (merged['shortage']).as_matrix()\n",
    "Y_test = (merged['shortage']).as_matrix()\n"
   ]
  },
  {
   "cell_type": "code",
   "execution_count": null,
   "metadata": {
    "collapsed": false
   },
   "outputs": [],
   "source": [
    "#logistic Regression\n",
    "from sklearn.linear_model import LogisticRegression as lr\n",
    "model = lr()\n",
    "model.fit(X_train,Y_train)\n"
   ]
  },
  {
   "cell_type": "code",
   "execution_count": null,
   "metadata": {
    "collapsed": false
   },
   "outputs": [],
   "source": [
    "((model.predict(X_test) > 0) == Y_test).sum()/X_test.shape[0]"
   ]
  }
 ],
 "metadata": {
  "kernelspec": {
   "display_name": "Python 3",
   "language": "python",
   "name": "python3"
  },
  "language_info": {
   "codemirror_mode": {
    "name": "ipython",
    "version": 3
   },
   "file_extension": ".py",
   "mimetype": "text/x-python",
   "name": "python",
   "nbconvert_exporter": "python",
   "pygments_lexer": "ipython3",
   "version": "3.6.0"
  }
 },
 "nbformat": 4,
 "nbformat_minor": 2
}