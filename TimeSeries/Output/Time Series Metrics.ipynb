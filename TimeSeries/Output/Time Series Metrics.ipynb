{
 "cells": [
  {
   "cell_type": "code",
   "execution_count": 1,
   "metadata": {
    "collapsed": true
   },
   "outputs": [],
   "source": [
    "import pandas as pd\n",
    "import numpy as np\n",
    "import matplotlib.pyplot as plt\n",
    "import pylab\n",
    "import glob "
   ]
  },
  {
   "cell_type": "code",
   "execution_count": 88,
   "metadata": {
    "collapsed": false
   },
   "outputs": [],
   "source": [
    "### Reading data from files \n",
    "dataDir =r\"C:/Ramya Dhatri/Intro To Data Science/Project/Dock/Output/\"\n",
    "files = glob.glob(dataDir + \"output_*.csv\")\n",
    "data = pd.DataFrame()\n",
    "dock_accuracy = pd.DataFrame(dict(Dock_ID=[], True_Predictions=[], False_Predictions=[], Total_Predictions=[]), \n",
    "                             columns=['Dock_ID', 'True_Predictions', 'False_Predictions', 'Total_Predictions'], dtype=int)\n",
    "list_ = []\n",
    "dock_count = 0\n",
    "for file_ in files:\n",
    "    tempData = pd.read_csv(file_,index_col=None, sep='\\t', header=0)\n",
    "    true_pred = 0\n",
    "    false_pred = 0 \n",
    "    total_pred = len(tempData)\n",
    "    dock_id = tempData.DockID.values[0]\n",
    "    for index, row in tempData.iterrows():\n",
    "        if (row['Predicted_Bin'] == row['Expected_Bin']):\n",
    "            true_pred += 1\n",
    "        else:\n",
    "            false_pred += 1\n",
    "    dock_accuracy.loc[dock_count] = [dock_id, true_pred, false_pred, int(total_pred)]\n",
    "    list_.append(tempData)\n",
    "    dock_count += 1\n",
    "data = pd.concat(list_)\n",
    "data = data.drop(data.columns[[0]], axis=1)"
   ]
  },
  {
   "cell_type": "code",
   "execution_count": 89,
   "metadata": {
    "collapsed": false
   },
   "outputs": [
    {
     "data": {
      "text/html": [
       "<div>\n",
       "<table border=\"1\" class=\"dataframe\">\n",
       "  <thead>\n",
       "    <tr style=\"text-align: right;\">\n",
       "      <th></th>\n",
       "      <th>Dock_ID</th>\n",
       "      <th>True_Predictions</th>\n",
       "      <th>False_Predictions</th>\n",
       "      <th>Total_Predictions</th>\n",
       "    </tr>\n",
       "  </thead>\n",
       "  <tbody>\n",
       "    <tr>\n",
       "      <th>0</th>\n",
       "      <td>152</td>\n",
       "      <td>1007</td>\n",
       "      <td>74</td>\n",
       "      <td>1081</td>\n",
       "    </tr>\n",
       "    <tr>\n",
       "      <th>1</th>\n",
       "      <td>322</td>\n",
       "      <td>946</td>\n",
       "      <td>135</td>\n",
       "      <td>1081</td>\n",
       "    </tr>\n",
       "    <tr>\n",
       "      <th>2</th>\n",
       "      <td>325</td>\n",
       "      <td>944</td>\n",
       "      <td>137</td>\n",
       "      <td>1081</td>\n",
       "    </tr>\n",
       "    <tr>\n",
       "      <th>3</th>\n",
       "      <td>368</td>\n",
       "      <td>1010</td>\n",
       "      <td>71</td>\n",
       "      <td>1081</td>\n",
       "    </tr>\n",
       "    <tr>\n",
       "      <th>4</th>\n",
       "      <td>379</td>\n",
       "      <td>983</td>\n",
       "      <td>98</td>\n",
       "      <td>1081</td>\n",
       "    </tr>\n",
       "    <tr>\n",
       "      <th>5</th>\n",
       "      <td>380</td>\n",
       "      <td>986</td>\n",
       "      <td>95</td>\n",
       "      <td>1081</td>\n",
       "    </tr>\n",
       "    <tr>\n",
       "      <th>6</th>\n",
       "      <td>390</td>\n",
       "      <td>975</td>\n",
       "      <td>106</td>\n",
       "      <td>1081</td>\n",
       "    </tr>\n",
       "    <tr>\n",
       "      <th>7</th>\n",
       "      <td>490</td>\n",
       "      <td>959</td>\n",
       "      <td>122</td>\n",
       "      <td>1081</td>\n",
       "    </tr>\n",
       "    <tr>\n",
       "      <th>8</th>\n",
       "      <td>503</td>\n",
       "      <td>932</td>\n",
       "      <td>149</td>\n",
       "      <td>1081</td>\n",
       "    </tr>\n",
       "    <tr>\n",
       "      <th>9</th>\n",
       "      <td>82</td>\n",
       "      <td>1006</td>\n",
       "      <td>75</td>\n",
       "      <td>1081</td>\n",
       "    </tr>\n",
       "  </tbody>\n",
       "</table>\n",
       "</div>"
      ],
      "text/plain": [
       "   Dock_ID  True_Predictions  False_Predictions  Total_Predictions\n",
       "0      152              1007                 74               1081\n",
       "1      322               946                135               1081\n",
       "2      325               944                137               1081\n",
       "3      368              1010                 71               1081\n",
       "4      379               983                 98               1081\n",
       "5      380               986                 95               1081\n",
       "6      390               975                106               1081\n",
       "7      490               959                122               1081\n",
       "8      503               932                149               1081\n",
       "9       82              1006                 75               1081"
      ]
     },
     "execution_count": 89,
     "metadata": {},
     "output_type": "execute_result"
    }
   ],
   "source": [
    "dock_accuracy"
   ]
  },
  {
   "cell_type": "code",
   "execution_count": 3,
   "metadata": {
    "collapsed": true
   },
   "outputs": [],
   "source": [
    "from sklearn.metrics import roc_curve, auc\n",
    "\n",
    "def plotUnivariateROC(preds, truth, label_string):\n",
    "    fpr, tpr, thresholds = roc_curve(truth, preds)\n",
    "    roc_auc = auc(fpr, tpr)\n",
    "\n",
    "    #chooses a random color for plotting\n",
    "    c = (np.random.rand(), np.random.rand(), np.random.rand())\n",
    "\n",
    "    #create a plot and set some options\n",
    "    plt.plot(fpr, tpr, color = c, label = label_string + ' (AUC = %0.3f)' % roc_auc)\n",
    "    \n",
    "\n",
    "    plt.plot([0, 1], [0, 1], 'k--')\n",
    "    #plt.xlim([0.0, 1.0])\n",
    "    #plt.ylim([0.0, 1.0])\n",
    "    plt.xlabel('FPR')\n",
    "    plt.ylabel('TPR')\n",
    "    plt.title('ROC')\n",
    "    plt.legend(loc=\"lower right\")\n",
    "    \n",
    "    return roc_auc"
   ]
  },
  {
   "cell_type": "code",
   "execution_count": null,
   "metadata": {
    "collapsed": false
   },
   "outputs": [],
   "source": [
    "fig = plt.figure(figsize = (12, 6))\n",
    "ax = plt.subplot(111)\n",
    "\n",
    "auc_dict = {}\n",
    "#for index in range(len(data)):\n",
    "auc_dict[index] = plotUnivariateROC(data['Predicted_Bin'], data['Expected_Bin'], 'Time Series')\n",
    "\n",
    "\n",
    "# Put a legend below current axis\n",
    "box = ax.get_position()\n",
    "ax.set_position([box.x0, box.y0 + box.height * 0.0 , box.width, box.height * 1])\n",
    "ax.legend(loc = 'upper center', bbox_to_anchor = (0.5, -0.15), fancybox = True, \n",
    "              shadow = True, ncol = 4, prop = {'size':10})\n",
    "plt.show()"
   ]
  },
  {
   "cell_type": "code",
   "execution_count": 90,
   "metadata": {
    "collapsed": false
   },
   "outputs": [
    {
     "name": "stdout",
     "output_type": "stream",
     "text": [
      "ts_accuracy = 0.902, ts_auc = 0.888, ts_recall = 0.844, ts_precision = 0.867, ts_f1 = 0.856\n"
     ]
    }
   ],
   "source": [
    "from sklearn import metrics\n",
    "\n",
    "ts_fpr, ts_tpr, ts_threshold = metrics.roc_curve (data['Expected_Bin'], data['Predicted_Bin'])\n",
    "ts_auc = metrics.auc(ts_fpr, ts_tpr)\n",
    "ts_accuracy = metrics.accuracy_score(data['Expected_Bin'], data['Predicted_Bin'])\n",
    "ts_recall = metrics.recall_score(data['Expected_Bin'], data['Predicted_Bin'])\n",
    "ts_precision = metrics.precision_score(data['Expected_Bin'], data['Predicted_Bin'])\n",
    "ts_f1 = metrics.f1_score(data['Expected_Bin'], data['Predicted_Bin'])\n",
    "print('ts_accuracy = {accu:5.3f}, ts_auc = {auc:5.3f}, ts_recall = {rec:5.3f}, ts_precision = {prec:5.3f}, ts_f1 = {f1:5.3f}'.format(\n",
    "        accu = ts_accuracy, auc = ts_auc, rec = ts_recall, prec = ts_precision, f1 = ts_f1))\n"
   ]
  },
  {
   "cell_type": "code",
   "execution_count": null,
   "metadata": {
    "collapsed": true
   },
   "outputs": [],
   "source": [
    "plt.plot(ts_fpr,ts_tpr, label = 'ts: AUC = {auc:5.3f}'.format(auc = ts_auc))\n",
    "plt.show()"
   ]
  }
 ],
 "metadata": {
  "kernelspec": {
   "display_name": "Python 2",
   "language": "python",
   "name": "python2"
  },
  "language_info": {
   "codemirror_mode": {
    "name": "ipython",
    "version": 2
   },
   "file_extension": ".py",
   "mimetype": "text/x-python",
   "name": "python",
   "nbconvert_exporter": "python",
   "pygments_lexer": "ipython2",
   "version": "2.7.13"
  }
 },
 "nbformat": 4,
 "nbformat_minor": 0
}
